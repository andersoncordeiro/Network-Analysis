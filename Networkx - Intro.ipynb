{
 "cells": [
  {
   "cell_type": "markdown",
   "metadata": {},
   "source": [
    "# Introdução ao NetworkX\n",
    "\n",
    "De acordo com a documentação oficial, NetworkX é “um pacote para a criação, manipulação e estudo da estrutura, dinâmica e funções de redes complexas”. Ele pode ser facilmente instalado via pip e depois importado para o seu notebook.\n",
    "\n",
    "Então, vamos construir nosso primeiro grafo passo a passo:"
   ]
  },
  {
   "cell_type": "code",
   "execution_count": 1,
   "metadata": {},
   "outputs": [],
   "source": [
    "#importando a biblioteca\n",
    "import networkx as nx"
   ]
  },
  {
   "cell_type": "code",
   "execution_count": 2,
   "metadata": {},
   "outputs": [
    {
     "data": {
      "image/png": "[encoded data removed]",
      "text/plain": "<Figure size 432x288 with 1 Axes>"
     },
     "metadata": {},
     "output_type": "display_data"
    }
   ],
   "source": [
    "# inicializando o grafo\n",
    "G = nx.Graph()\n",
    "\n",
    "# adicionando um nó\n",
    "G.add_node(1)\n",
    "\n",
    "# adicionando outro nó\n",
    "G.add_node(2)\n",
    "\n",
    "# adicionando uma aresta entre dois nós (não direcionado)\n",
    "G.add_edge(1,2)\n",
    "\n",
    "# exibindo o grafo\n",
    "nx.draw(G, with_labels=True)"
   ]
  },
  {
   "cell_type": "markdown",
   "metadata": {},
   "source": [
    "Também podemos criar um grafo direcionado:"
   ]
  },
  {
   "cell_type": "code",
   "execution_count": 3,
   "metadata": {},
   "outputs": [
    {
     "data": {
      "image/png": "[encoded data removed]",
      "text/plain": "<Figure size 432x288 with 1 Axes>"
     },
     "metadata": {},
     "output_type": "display_data"
    }
   ],
   "source": [
    "# inicializando o grafo direcionado\n",
    "DG = nx.DiGraph() \n",
    "\n",
    "# adicionando um nó\n",
    "DG.add_node(1)\n",
    "\n",
    "# adicionando outro nó\n",
    "DG.add_node(2)\n",
    "\n",
    "# adicionando uma aresta entre os dois nós \n",
    "# a ordem dos nós indica a direção. Ex: 1 -> 2\n",
    "DG.add_edge(1,2)\n",
    "\n",
    "# exibindo o grafo\n",
    "nx.draw(DG, with_labels=True)"
   ]
  },
  {
   "cell_type": "markdown",
   "metadata": {},
   "source": [
    "É possível, se fornecido com um grafo direcionado, convertê-lo em um não direcionado (mas não o contrário):"
   ]
  },
  {
   "cell_type": "code",
   "execution_count": 4,
   "metadata": {},
   "outputs": [
    {
     "data": {
      "image/png": "[encoded data removed]",
      "text/plain": "<Figure size 432x288 with 1 Axes>"
     },
     "metadata": {},
     "output_type": "display_data"
    }
   ],
   "source": [
    "G = nx.Graph(DG) \n",
    "nx.draw(G, with_labels=True)"
   ]
  },
  {
   "cell_type": "markdown",
   "metadata": {},
   "source": [
    "Podemos criar um grafo nó por nó, aresta por aresta do zero com o NetworkX. No entanto, existem funcionalidades mais interessantes neste pacote que permitem aos usuários criar grafos de acordo com parâmetros e formas predefinidas, e vamos examiná-los enquanto falamos sobre os diferentes tipos de grafos."
   ]
  }
 ],
 "metadata": {
  "kernelspec": {
   "display_name": "Python 3.7.5 64-bit",
   "name": "python375jvsc74a57bd0fd69f43f58546b570e94fd7eba7b65e6bcc7a5bbc4eab0408017d18902915d69"
  },
  "language_info": {
   "name": "python",
   "version": ""
  },
  "orig_nbformat": 2
 },
 "nbformat": 4,
 "nbformat_minor": 2
}